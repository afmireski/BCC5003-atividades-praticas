{
 "cells": [
  {
   "cell_type": "code",
   "execution_count": 6,
   "metadata": {},
   "outputs": [],
   "source": [
    "from automata.fa.Mealy import Mealy"
   ]
  },
  {
   "cell_type": "markdown",
   "metadata": {},
   "source": [
    "Considere a Máquina de Mealy 𝑀 𝑀 , cuja definição segue\n",
    "𝑀 𝑀 = (𝑄, Σ, 𝛿, 𝑞0 , 𝐹 , Δ) e 𝛿 ∶ 𝑄 × Σ → 𝑄 × Δ∗ :\n",
    "𝑀𝑀 = ({𝑞0 , 𝑞1 , 𝑞2 }, {𝑎, 𝑏, 𝑐}, {(𝑞0 , 𝑎) → (𝑞0 , 1), (𝑞0 , 𝑏) → (𝑞1 , 𝜖), (𝑞0 , 𝑐) →\n",
    "(𝑞2 , 2), (𝑞1 , 𝑎) → (𝑞0 , 1), (𝑞1 , 𝑏) → (𝑞1 , 𝜖), (𝑞1 , 𝑐) → (𝑞2 , 2), (𝑞2 , 𝑎) →\n",
    "(𝑞0 , 1), (𝑞2 , 𝑏) → (𝑞1 , 𝜖), (𝑞2 , 𝑐) → (𝑞2 , 2)}, 𝑞0 , {𝑞2 }, {1, 2})."
   ]
  },
  {
   "cell_type": "code",
   "execution_count": 7,
   "metadata": {},
   "outputs": [],
   "source": [
    "aut_mealy = Mealy(\n",
    "    ['q0', 'q1', 'q2'],\n",
    "    ['a', 'b', 'c'],\n",
    "    ['1', '2'],\n",
    "    {\n",
    "        'q0': {\n",
    "           'a': ['q0', '1'],\n",
    "           'b': ['q1', ''],\n",
    "           'c': ['q2', '2'],\n",
    "       },\n",
    "       'q1': {\n",
    "           'a': ['q0', '1'],\n",
    "           'b': ['q1', ''],\n",
    "           'c': ['q2', '2'],\n",
    "       },\n",
    "       'q2': {\n",
    "           'a': ['q0', '1'],\n",
    "           'b': ['q1', ''],\n",
    "           'c': ['q2', '2'],\n",
    "       },\n",
    "    },\n",
    "    'q0'\n",
    ")"
   ]
  },
  {
   "cell_type": "code",
   "execution_count": 8,
   "metadata": {},
   "outputs": [
    {
     "name": "stdout",
     "output_type": "stream",
     "text": [
      "\n",
      "Mealy Machine\n",
      "States ['q0', 'q1', 'q2']\n",
      "Transitions {'q0': {'a': ['q0', '1'], 'b': ['q1', ''], 'c': ['q2', '2']}, 'q1': {'a': ['q0', '1'], 'b': ['q1', ''], 'c': ['q2', '2']}, 'q2': {'a': ['q0', '1'], 'b': ['q1', ''], 'c': ['q2', '2']}}\n",
      "Inital State q0\n",
      "Inital Alphabet ['a', 'b', 'c']\n",
      "Output Alphabet['1', '2']\n"
     ]
    }
   ],
   "source": [
    "print(aut_mealy)"
   ]
  },
  {
   "cell_type": "code",
   "execution_count": 10,
   "metadata": {},
   "outputs": [
    {
     "name": "stdout",
     "output_type": "stream",
     "text": [
      "111222\n",
      "112211\n"
     ]
    }
   ],
   "source": [
    "print(aut_mealy.get_output_from_string('aaabbbccc'))\n",
    "print(aut_mealy.get_output_from_string('aabbccaabb'))"
   ]
  },
  {
   "cell_type": "markdown",
   "metadata": {},
   "source": [
    "Construa uma Máquina de Moore que detecte a sequência 11011 em um sinal binário. Ao detectar a sequência imprima 1 na saída e 0 caso contrário."
   ]
  },
  {
   "cell_type": "code",
   "execution_count": 1,
   "metadata": {},
   "outputs": [],
   "source": [
    "from automata.fa.Moore import Moore"
   ]
  },
  {
   "cell_type": "code",
   "execution_count": 2,
   "metadata": {},
   "outputs": [],
   "source": [
    "aut_moore = Moore(\n",
    "    ['q0', 'q1', 'q2', 'q3', 'q4', 'q5'],\n",
    "    ['0', '1'],\n",
    "    ['0', '1'],\n",
    "    {\n",
    "       'q0': {\n",
    "           '0': 'q0',\n",
    "           '1': 'q1'\n",
    "       },\n",
    "       'q1': {\n",
    "           '0': 'q0',\n",
    "           '1': 'q2'\n",
    "       },\n",
    "       'q2': {\n",
    "           '0': 'q3',\n",
    "           '1': 'q2'\n",
    "       },\n",
    "       'q3': {\n",
    "           '0': 'q0',\n",
    "           '1': 'q4'\n",
    "       },\n",
    "       'q4': {\n",
    "           '0': 'q0',\n",
    "           '1': 'q5'\n",
    "       },\n",
    "       'q5': {\n",
    "           '0': 'q3',\n",
    "           '1': 'q2'\n",
    "       },\n",
    "    },\n",
    "    'q0',\n",
    "    {\n",
    "        'q0': '0',\n",
    "        'q1': '0',\n",
    "        'q2': '0',\n",
    "        'q3': '0',\n",
    "        'q4': '0',\n",
    "        'q5': '1',\n",
    "    }\n",
    ")"
   ]
  },
  {
   "cell_type": "code",
   "execution_count": 4,
   "metadata": {},
   "outputs": [
    {
     "name": "stdout",
     "output_type": "stream",
     "text": [
      "\n",
      "Moore Machine\n",
      "States ['q0', 'q1', 'q2', 'q3', 'q4', 'q5']\n",
      "Input Alphabet ['0', '1']\n",
      "Output Alphabet ['0', '1']\n",
      "Transitions {'q0': {'0': 'q0', '1': 'q1'}, 'q1': {'0': 'q0', '1': 'q2'}, 'q2': {'0': 'q3', '1': 'q2'}, 'q3': {'0': 'q0', '1': 'q4'}, 'q4': {'0': 'q0', '1': 'q5'}, 'q5': {'0': 'q3', '1': 'q2'}}\n",
      "Initial Stateq0\n",
      "Output Table {'q0': '0', 'q1': '0', 'q2': '0', 'q3': '0', 'q4': '0', 'q5': '1'}\n"
     ]
    }
   ],
   "source": [
    "print(aut_moore)"
   ]
  },
  {
   "cell_type": "code",
   "execution_count": 5,
   "metadata": {},
   "outputs": [
    {
     "data": {
      "text/plain": [
       "'00000001001'"
      ]
     },
     "execution_count": 5,
     "metadata": {},
     "output_type": "execute_result"
    }
   ],
   "source": [
    "aut_moore.get_output_from_string(\"0011011011\")"
   ]
  }
 ],
 "metadata": {
  "kernelspec": {
   "display_name": ".venv",
   "language": "python",
   "name": "python3"
  },
  "language_info": {
   "codemirror_mode": {
    "name": "ipython",
    "version": 3
   },
   "file_extension": ".py",
   "mimetype": "text/x-python",
   "name": "python",
   "nbconvert_exporter": "python",
   "pygments_lexer": "ipython3",
   "version": "3.13.2"
  }
 },
 "nbformat": 4,
 "nbformat_minor": 2
}
